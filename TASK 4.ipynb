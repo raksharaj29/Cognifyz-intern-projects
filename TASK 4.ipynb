{
 "cells": [
  {
   "cell_type": "code",
   "execution_count": 3,
   "metadata": {},
   "outputs": [],
   "source": [
    "import pandas as pd\n",
    "import numpy as np\n",
    "import matplotlib.pyplot as plt\n",
    "file_path = r'C:\\Users\\Raksha\\Documents\\Notes DA\\python notes\\DATASET FOR PYTHON\\csv _files\\datass.csv'\n",
    "dataset=pd.read_csv(file_path)"
   ]
  },
  {
   "cell_type": "code",
   "execution_count": 4,
   "metadata": {},
   "outputs": [
    {
     "name": "stdout",
     "output_type": "stream",
     "text": [
      "Index(['Restaurant ID', 'Restaurant Name', 'Country Code', 'City', 'Address',\n",
      "       'Locality', 'Locality Verbose', 'Longitude', 'Latitude', 'Cuisines',\n",
      "       'Average Cost for two', 'Currency', 'Has Table booking',\n",
      "       'Has Online delivery', 'Is delivering now', 'Switch to order menu',\n",
      "       'Price range', 'Aggregate rating', 'Rating color', 'Rating text',\n",
      "       'Votes'],\n",
      "      dtype='object')\n"
     ]
    }
   ],
   "source": [
    "print(dataset.columns)"
   ]
  },
  {
   "cell_type": "markdown",
   "metadata": {},
   "source": [
    "Determine the percentage of restaurants\n",
    "that offer online delivery."
   ]
  },
  {
   "cell_type": "code",
   "execution_count": 5,
   "metadata": {},
   "outputs": [
    {
     "name": "stdout",
     "output_type": "stream",
     "text": [
      "Total Resturent with Online Delivery:  2451\n"
     ]
    }
   ],
   "source": [
    "online_delivery= dataset['Has Online delivery'].value_counts().get('Yes', 0)\n",
    "print(\"Total Resturent with Online Delivery: \",online_delivery)"
   ]
  },
  {
   "cell_type": "code",
   "execution_count": 7,
   "metadata": {},
   "outputs": [
    {
     "name": "stdout",
     "output_type": "stream",
     "text": [
      "Resturent with NO Online Delivery:  7100\n",
      "Total % of Online Delivery 25.66\n"
     ]
    }
   ],
   "source": [
    "no= dataset ['Has Online delivery'].value_counts().get('No', 0) \n",
    "print(\"Resturent with NO Online Delivery: \",no)\n",
    "Row_count= len(dataset) \n",
    "percentage_of_online_delivery=round((online_delivery/Row_count)*100,2) \n",
    "print(\"Total % of Online Delivery\", percentage_of_online_delivery)"
   ]
  },
  {
   "cell_type": "code",
   "execution_count": 20,
   "metadata": {},
   "outputs": [
    {
     "name": "stdout",
     "output_type": "stream",
     "text": [
      "Total X where Online Delivery is not present:  74.34\n",
      "Average Rating with Online Delivery:  3.25\n",
      "Average Rating Without Online Delivery:  2.47\n"
     ]
    }
   ],
   "source": [
    "# Calculate the percentage of entries with no online delivery\n",
    "percentage_of_NO_online_delivery = round((no / Row_count) * 100, 2)\n",
    "print(\"Total X where Online Delivery is not present: \", percentage_of_NO_online_delivery)\n",
    "\n",
    "# Calculate the average rating for entries with online delivery\n",
    "Avg_rating_yes = round(dataset[dataset[\"Has Online delivery\"] == 'Yes']['Aggregate rating'].mean(), 2)\n",
    "print(\"Average Rating with Online Delivery: \", Avg_rating_yes)\n",
    "\n",
    "# Calculate the average rating for entries without online delivery\n",
    "Avg_rating_No = round(dataset[dataset['Has Online delivery'] == 'No']['Aggregate rating'].mean(), 2)\n",
    "print(\"Average Rating Without Online Delivery: \", Avg_rating_No)\n"
   ]
  },
  {
   "cell_type": "code",
   "execution_count": 22,
   "metadata": {},
   "outputs": [
    {
     "data": {
      "image/png": "[encoded data removed]",
      "text/plain": [
       "<Figure size 640x480 with 1 Axes>"
      ]
     },
     "metadata": {},
     "output_type": "display_data"
    }
   ],
   "source": [
    "import matplotlib.pyplot as plt\n",
    "\n",
    "# Define labels and average ratings\n",
    "labels = ['YES', 'NO']\n",
    "average_rating = [Avg_rating_yes, Avg_rating_No]\n",
    "\n",
    "# Define colors\n",
    "colors = ['green', 'yellow']\n",
    "\n",
    "# Create horizontal bar plot\n",
    "plt.barh(labels, average_rating, color=colors)\n",
    "\n",
    "# Label the axes\n",
    "plt.ylabel('Online Delivery')\n",
    "plt.xlabel('Average Rating')\n",
    "\n",
    "# Title of the plot\n",
    "plt.title(\"Comparison of Average Ratings of Online Delivery\")\n",
    "\n",
    "# Show the plot\n",
    "plt.show()\n",
    "\n"
   ]
  }
 ],
 "metadata": {
  "kernelspec": {
   "display_name": "Python 3",
   "language": "python",
   "name": "python3"
  },
  "language_info": {
   "codemirror_mode": {
    "name": "ipython",
    "version": 3
   },
   "file_extension": ".py",
   "mimetype": "text/x-python",
   "name": "python",
   "nbconvert_exporter": "python",
   "pygments_lexer": "ipython3",
   "version": "3.12.4"
  }
 },
 "nbformat": 4,
 "nbformat_minor": 2
}
